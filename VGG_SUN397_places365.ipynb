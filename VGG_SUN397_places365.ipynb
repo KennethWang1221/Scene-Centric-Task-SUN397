{
 "cells": [
  {
   "cell_type": "code",
   "execution_count": null,
   "metadata": {
    "colab": {},
    "colab_type": "code",
    "id": "_q9hRA6_Gbk4"
   },
   "outputs": [],
   "source": []
  },
  {
   "cell_type": "code",
   "execution_count": null,
   "metadata": {
    "colab": {
     "base_uri": "https://localhost:8080/",
     "height": 125
    },
    "colab_type": "code",
    "executionInfo": {
     "elapsed": 24596,
     "status": "ok",
     "timestamp": 1573919004347,
     "user": {
      "displayName": "Xiang Wang",
      "photoUrl": "https://lh3.googleusercontent.com/a-/AAuE7mDQoowdPZy7DcJE-ReKG0zueoBBu5SHQOULxnrP=s64",
      "userId": "04056541049722211033"
     },
     "user_tz": 300
    },
    "id": "eGthfWyYHDBX",
    "outputId": "b7566726-8272-4786-8fda-3020c2824cb7"
   },
   "outputs": [],
   "source": [
    "from google.colab import drive\n",
    "drive.mount('/content/drive')"
   ]
  },
  {
   "cell_type": "code",
   "execution_count": 1,
   "metadata": {
    "colab": {
     "base_uri": "https://localhost:8080/",
     "height": 98
    },
    "colab_type": "code",
    "executionInfo": {
     "elapsed": 5311,
     "status": "ok",
     "timestamp": 1573930439062,
     "user": {
      "displayName": "Xiang Wang",
      "photoUrl": "https://lh3.googleusercontent.com/a-/AAuE7mDQoowdPZy7DcJE-ReKG0zueoBBu5SHQOULxnrP=s64",
      "userId": "04056541049722211033"
     },
     "user_tz": 300
    },
    "id": "A50gXpXGaMHp",
    "outputId": "698c8545-7add-40e4-f023-2265b85663ae"
   },
   "outputs": [
    {
     "name": "stderr",
     "output_type": "stream",
     "text": [
      "/root/anaconda3/lib/python3.6/site-packages/h5py/__init__.py:36: FutureWarning: Conversion of the second argument of issubdtype from `float` to `np.floating` is deprecated. In future, it will be treated as `np.float64 == np.dtype(float).type`.\n",
      "  from ._conv import register_converters as _register_converters\n",
      "Using TensorFlow backend.\n"
     ]
    }
   ],
   "source": [
    "from keras.layers import Input, Dense, Flatten, Dropout\n",
    "from keras.models import Model\n",
    "from keras.optimizers import Adam, SGD\n",
    "from keras.utils import np_utils\n",
    "from keras import backend as K\n",
    "import numpy as np\n",
    "import os\n",
    "from keras.regularizers import l2\n",
    "import tensorflow as tf\n",
    "import time\n",
    "import datetime\n",
    "import argparse\n",
    "import datetime\n",
    "import socket\n",
    "import keras \n",
    "from sklearn import preprocessing\n",
    "import scipy.io as sio\n",
    "import numpy as np\n",
    "import matplotlib.pyplot as plt\n",
    "from sklearn import preprocessing\n",
    "import time\n",
    "from keras.preprocessing.image import ImageDataGenerator\n",
    "from PIL import Image, ImageOps\n",
    "from keras.preprocessing import image\n",
    "from keras.preprocessing.image import ImageDataGenerator\n",
    "##### For one-hot label\n",
    "from keras.utils import np_utils\n"
   ]
  },
  {
   "cell_type": "code",
   "execution_count": 2,
   "metadata": {},
   "outputs": [],
   "source": [
    "os.environ[\"CUDA_VISIBLE_DEVICES\"]=\"0\";  "
   ]
  },
  {
   "cell_type": "code",
   "execution_count": 3,
   "metadata": {
    "colab": {
     "base_uri": "https://localhost:8080/",
     "height": 107
    },
    "colab_type": "code",
    "executionInfo": {
     "elapsed": 4065,
     "status": "ok",
     "timestamp": 1573831014496,
     "user": {
      "displayName": "Xiang Wang",
      "photoUrl": "https://lh3.googleusercontent.com/a-/AAuE7mDQoowdPZy7DcJE-ReKG0zueoBBu5SHQOULxnrP=s64",
      "userId": "04056541049722211033"
     },
     "user_tz": 300
    },
    "id": "vVWYjDKNIkxU",
    "outputId": "1de6664b-d871-46f0-9c3f-9af3b37b878e"
   },
   "outputs": [],
   "source": [
    "# pip install -U scikit-learn\n"
   ]
  },
  {
   "cell_type": "code",
   "execution_count": null,
   "metadata": {
    "colab": {},
    "colab_type": "code",
    "id": "bQkujju8YQFq"
   },
   "outputs": [],
   "source": [
    "nb_classes = 397\n",
    "img_depth = 3\n",
    "data_dir ='/content/drive/My Drive/Colab Notebooks/SUN_Practice/'+'SUN397'\n",
    "train_img_file = '/content/drive/My Drive/Colab Notebooks/SUN_Practice/Partitions/Training_01.txt'   # Training_01.txt\n",
    "test_img_file = '/content/drive/My Drive/Colab Notebooks/SUN_Practice/Partitions/Testing_01.txt'     # Testing_01.txt\n",
    "classes_name_list = '/content/drive/My Drive/Colab Notebooks/SUN_Practice/Partitions/ClassName.txt'\n",
    "train_label_file ='/content/drive/My Drive/Colab Notebooks/SUN_Practice/Partitions/ClassName.txt'\n",
    "test_label_file = '/content/drive/My Drive/Colab Notebooks/SUN_Practice/Partitions/ClassName.txt'\n",
    "\n",
    "train_img_file_path='/content/drive/My Drive/Colab Notebooks/SUN_Practice/Partitions/Training_01.txt'\n",
    "test_img_file_path='/content/drive/My Drive/Colab Notebooks/SUN_Practice/Partitions/Testing_01.txt'\n"
   ]
  },
  {
   "cell_type": "code",
   "execution_count": null,
   "metadata": {
    "colab": {
     "base_uri": "https://localhost:8080/",
     "height": 34
    },
    "colab_type": "code",
    "executionInfo": {
     "elapsed": 498,
     "status": "ok",
     "timestamp": 1573883996728,
     "user": {
      "displayName": "Xiang Wang",
      "photoUrl": "https://lh3.googleusercontent.com/a-/AAuE7mDQoowdPZy7DcJE-ReKG0zueoBBu5SHQOULxnrP=s64",
      "userId": "04056541049722211033"
     },
     "user_tz": 300
    },
    "id": "kWZqjX4natpR",
    "outputId": "1d19f76d-3e30-4d7f-dc96-d4e738a95b74"
   },
   "outputs": [],
   "source": [
    "print(train_img_file)"
   ]
  },
  {
   "cell_type": "code",
   "execution_count": null,
   "metadata": {
    "colab": {
     "base_uri": "https://localhost:8080/",
     "height": 107
    },
    "colab_type": "code",
    "executionInfo": {
     "elapsed": 435,
     "status": "ok",
     "timestamp": 1573930442280,
     "user": {
      "displayName": "Xiang Wang",
      "photoUrl": "https://lh3.googleusercontent.com/a-/AAuE7mDQoowdPZy7DcJE-ReKG0zueoBBu5SHQOULxnrP=s64",
      "userId": "04056541049722211033"
     },
     "user_tz": 300
    },
    "id": "ZgiorRWOaWI8",
    "outputId": "a3708194-9c83-4a26-b78e-d085d7cbdb14"
   },
   "outputs": [],
   "source": [
    "print('Begin to create a map to tansfer the str label to int label...')\n",
    "class_name_file =  classes_name_list\n",
    "class_str = [str(line.strip()) for line in open(class_name_file).readlines()]\n",
    "class_count = len(class_str)\n",
    "print('%d class names are loaded' % class_count)\n",
    "        # begin to create the map\n",
    "le = preprocessing.LabelEncoder()\n",
    "le.fit(class_str)\n",
    "print(list(le.classes_))\n",
    "print('Label map created...')\n"
   ]
  },
  {
   "cell_type": "code",
   "execution_count": null,
   "metadata": {
    "colab": {},
    "colab_type": "code",
    "id": "kp_cKjUGP93G"
   },
   "outputs": [],
   "source": [
    "x_train=[]\n",
    "\n",
    "x_test=[]\n",
    "\n",
    "x_train = np.array(x_train)\n",
    "\n",
    "x_test = np.array(x_test)\n"
   ]
  },
  {
   "cell_type": "code",
   "execution_count": null,
   "metadata": {
    "colab": {
     "base_uri": "https://localhost:8080/",
     "height": 34
    },
    "colab_type": "code",
    "executionInfo": {
     "elapsed": 1571,
     "status": "ok",
     "timestamp": 1573884007406,
     "user": {
      "displayName": "Xiang Wang",
      "photoUrl": "https://lh3.googleusercontent.com/a-/AAuE7mDQoowdPZy7DcJE-ReKG0zueoBBu5SHQOULxnrP=s64",
      "userId": "04056541049722211033"
     },
     "user_tz": 300
    },
    "id": "UQjnbybcTCXW",
    "outputId": "b4e8bbb6-637c-442c-e38a-44fdd9abf29b"
   },
   "outputs": [],
   "source": [
    "x_train.shape"
   ]
  },
  {
   "cell_type": "markdown",
   "metadata": {
    "colab_type": "text",
    "id": "r7GaifrFVksq"
   },
   "source": [
    "# **load training data**"
   ]
  },
  {
   "cell_type": "code",
   "execution_count": null,
   "metadata": {
    "colab": {
     "base_uri": "https://localhost:8080/",
     "height": 107
    },
    "colab_type": "code",
    "executionInfo": {
     "elapsed": 269,
     "status": "ok",
     "timestamp": 1573930507850,
     "user": {
      "displayName": "Xiang Wang",
      "photoUrl": "https://lh3.googleusercontent.com/a-/AAuE7mDQoowdPZy7DcJE-ReKG0zueoBBu5SHQOULxnrP=s64",
      "userId": "04056541049722211033"
     },
     "user_tz": 300
    },
    "id": "MjRJCcT9c08-",
    "outputId": "2253cf45-7954-4483-bb5a-d634497b4770"
   },
   "outputs": [],
   "source": [
    "print('\\nBegin to load training data...\\n')\n",
    "desired_img_dim=224\n",
    "print('Loading image file %s' % train_img_file_path)\n"
   ]
  },
  {
   "cell_type": "code",
   "execution_count": null,
   "metadata": {
    "colab": {
     "base_uri": "https://localhost:8080/",
     "height": 1000
    },
    "colab_type": "code",
    "executionInfo": {
     "elapsed": 6501580,
     "status": "ok",
     "timestamp": 1573925557258,
     "user": {
      "displayName": "Xiang Wang",
      "photoUrl": "https://lh3.googleusercontent.com/a-/AAuE7mDQoowdPZy7DcJE-ReKG0zueoBBu5SHQOULxnrP=s64",
      "userId": "04056541049722211033"
     },
     "user_tz": 300
    },
    "id": "D6kkSvXgr1cC",
    "outputId": "2cf27ef6-c8be-4fbd-e52b-6ef3c779f3e8"
   },
   "outputs": [],
   "source": [
    "start_time_ = time.time()\n",
    "train_img_file_path = [str(line.strip()) for line in open(train_img_file_path).readlines()]  # read all the image file name\n",
    "nb_sample = len(train_img_file_path)\n",
    "print('Image count: %d' % nb_sample)\n",
    "\n",
    "data_resized_holder = np.empty([nb_sample, desired_img_dim, desired_img_dim, img_depth], dtype='float32')\n",
    "\n",
    "for idx in range(nb_sample):\n",
    "    img_file1 = train_img_file_path[idx].replace(\"\\\\\", \"/\")     # the image file path\n",
    "    # print(str(img_file1))\n",
    "    # 1. read the image\n",
    "    img1 = image.load_img(data_dir+img_file1)\n",
    "\n",
    "    # 2. resize\n",
    "    img1 = img1.resize((desired_img_dim, desired_img_dim), resample=0)\n",
    "\n",
    "\n",
    "    # 6. give to the holder\n",
    "    data_resized_holder[idx] = img1\n",
    "    if(idx % 1000==0):\n",
    "        print('%d image loaded.' % idx)\n",
    "\n",
    "print('\\nImage file loaded, the shape is ' + str(data_resized_holder.shape))\n"
   ]
  },
  {
   "cell_type": "code",
   "execution_count": null,
   "metadata": {
    "colab": {
     "base_uri": "https://localhost:8080/",
     "height": 34
    },
    "colab_type": "code",
    "executionInfo": {
     "elapsed": 286,
     "status": "ok",
     "timestamp": 1573925576129,
     "user": {
      "displayName": "Xiang Wang",
      "photoUrl": "https://lh3.googleusercontent.com/a-/AAuE7mDQoowdPZy7DcJE-ReKG0zueoBBu5SHQOULxnrP=s64",
      "userId": "04056541049722211033"
     },
     "user_tz": 300
    },
    "id": "POZRK7WJMnyk",
    "outputId": "d53c4bb1-8abc-43ba-efe4-dba37102f559"
   },
   "outputs": [],
   "source": [
    "x_train.shape"
   ]
  },
  {
   "cell_type": "markdown",
   "metadata": {
    "colab_type": "text",
    "id": "xWiftZzUWba7"
   },
   "source": [
    "**loading the training labels text**"
   ]
  },
  {
   "cell_type": "code",
   "execution_count": null,
   "metadata": {
    "colab": {
     "base_uri": "https://localhost:8080/",
     "height": 107
    },
    "colab_type": "code",
    "executionInfo": {
     "elapsed": 5819,
     "status": "ok",
     "timestamp": 1573933418041,
     "user": {
      "displayName": "Xiang Wang",
      "photoUrl": "https://lh3.googleusercontent.com/a-/AAuE7mDQoowdPZy7DcJE-ReKG0zueoBBu5SHQOULxnrP=s64",
      "userId": "04056541049722211033"
     },
     "user_tz": 300
    },
    "id": "iPkWcUxEWeF6",
    "outputId": "0bad0ac9-f557-4a17-c2dd-20194bccd2e3"
   },
   "outputs": [],
   "source": [
    "one_hot = True\n",
    "print('Loading label file %s' % train_label_file)\n",
    "label_str = [str(line.strip()) for line in open(train_label_file).readlines()]\n",
    "nb_unique = len(label_str)\n",
    "labels_unique = le.transform(label_str)\n",
    "# print(labels_unique)\n",
    "labels_holder = np.hstack((  [ labels_unique[i] ] * 50 for i in range(nb_unique)))\n",
    "# print(labels_holder)\n",
    "nb_sample = len(labels_holder)\n",
    "if one_hot == True:\n",
    "    labels = np.array([[float(i == l) for i in range(nb_classes)] for l in labels_holder])\n",
    "else:\n",
    "    labels = labels_holder\n",
    "print('Labels loaded, shape is:' + str(labels.shape))\n",
    "\n"
   ]
  },
  {
   "cell_type": "markdown",
   "metadata": {
    "colab_type": "text",
    "id": "CdZbse-PUPIU"
   },
   "source": [
    "**loading training data**"
   ]
  },
  {
   "cell_type": "code",
   "execution_count": null,
   "metadata": {
    "colab": {},
    "colab_type": "code",
    "id": "GS03m7Rsr1Yx"
   },
   "outputs": [],
   "source": [
    "x_train, nb_train_sample_1 = data_resized_holder, nb_sample"
   ]
  },
  {
   "cell_type": "code",
   "execution_count": null,
   "metadata": {
    "colab": {},
    "colab_type": "code",
    "id": "ngFJUA5eY4N1"
   },
   "outputs": [],
   "source": [
    "y_train, nb_train_sample_2 = labels, nb_sample"
   ]
  },
  {
   "cell_type": "code",
   "execution_count": null,
   "metadata": {
    "colab": {},
    "colab_type": "code",
    "id": "k48t3QxCNrxB"
   },
   "outputs": [],
   "source": [
    "del data_resized_holder\n",
    "del labels"
   ]
  },
  {
   "cell_type": "code",
   "execution_count": null,
   "metadata": {
    "colab": {
     "base_uri": "https://localhost:8080/",
     "height": 34
    },
    "colab_type": "code",
    "executionInfo": {
     "elapsed": 408,
     "status": "ok",
     "timestamp": 1573925588306,
     "user": {
      "displayName": "Xiang Wang",
      "photoUrl": "https://lh3.googleusercontent.com/a-/AAuE7mDQoowdPZy7DcJE-ReKG0zueoBBu5SHQOULxnrP=s64",
      "userId": "04056541049722211033"
     },
     "user_tz": 300
    },
    "id": "gSlVdve_HHov",
    "outputId": "9ff757c2-1cac-49ad-b0a7-56908ccc4c7c"
   },
   "outputs": [],
   "source": [
    "x_train.shape"
   ]
  },
  {
   "cell_type": "code",
   "execution_count": null,
   "metadata": {
    "colab": {
     "base_uri": "https://localhost:8080/",
     "height": 34
    },
    "colab_type": "code",
    "executionInfo": {
     "elapsed": 410,
     "status": "ok",
     "timestamp": 1573933427557,
     "user": {
      "displayName": "Xiang Wang",
      "photoUrl": "https://lh3.googleusercontent.com/a-/AAuE7mDQoowdPZy7DcJE-ReKG0zueoBBu5SHQOULxnrP=s64",
      "userId": "04056541049722211033"
     },
     "user_tz": 300
    },
    "id": "mmtXBVh7Sa8Y",
    "outputId": "24084969-88b0-4164-cb54-26d9f84e8585"
   },
   "outputs": [],
   "source": [
    "y_train.shape"
   ]
  },
  {
   "cell_type": "markdown",
   "metadata": {
    "colab_type": "text",
    "id": "1MdfiKQwboHC"
   },
   "source": [
    "# **Saving train data and test data**"
   ]
  },
  {
   "cell_type": "markdown",
   "metadata": {
    "colab_type": "text",
    "id": "jpezu3h9XJQj"
   },
   "source": [
    "**Saving x_train y_train as .npy  file**"
   ]
  },
  {
   "cell_type": "code",
   "execution_count": null,
   "metadata": {
    "colab": {},
    "colab_type": "code",
    "id": "Dfty98X_XQk-"
   },
   "outputs": [],
   "source": [
    "np.save('/content/drive/My Drive/Colab Notebooks/SUN_Practice/x_tain.npy',x_train)"
   ]
  },
  {
   "cell_type": "code",
   "execution_count": null,
   "metadata": {
    "colab": {},
    "colab_type": "code",
    "id": "Mn5L1l6rZvFx"
   },
   "outputs": [],
   "source": [
    "np.save('/content/drive/My Drive/Colab Notebooks/SUN_Practice/y_train.npy',y_train)"
   ]
  },
  {
   "cell_type": "code",
   "execution_count": null,
   "metadata": {
    "colab": {},
    "colab_type": "code",
    "id": "nXHwLO7X1RQ-"
   },
   "outputs": [],
   "source": [
    "del x_train\n",
    "#del y_train\n"
   ]
  },
  {
   "cell_type": "markdown",
   "metadata": {
    "colab_type": "text",
    "id": "9fJa5qBwUWLH"
   },
   "source": [
    "# **loading testing data**"
   ]
  },
  {
   "cell_type": "markdown",
   "metadata": {
    "colab_type": "text",
    "id": "_p910MRFVtBZ"
   },
   "source": [
    "**load testing data**"
   ]
  },
  {
   "cell_type": "code",
   "execution_count": null,
   "metadata": {
    "colab": {
     "base_uri": "https://localhost:8080/",
     "height": 1000
    },
    "colab_type": "code",
    "executionInfo": {
     "elapsed": 1986008,
     "status": "ok",
     "timestamp": 1573932558454,
     "user": {
      "displayName": "Xiang Wang",
      "photoUrl": "https://lh3.googleusercontent.com/a-/AAuE7mDQoowdPZy7DcJE-ReKG0zueoBBu5SHQOULxnrP=s64",
      "userId": "04056541049722211033"
     },
     "user_tz": 300
    },
    "id": "vVsCJL9MaWBF",
    "outputId": "3643d176-ad5e-49a1-8c94-c346dae8d79a"
   },
   "outputs": [],
   "source": [
    "print('Loading image file %s' % test_img_file_path )\n",
    "start_time_ = time.time()\n",
    "test_img_file_path = [str(line.strip()) for line in open(test_img_file_path).readlines()]  # read all the image file name\n",
    "nb_sample = len(test_img_file_path)\n",
    "print('Image count: %d' % nb_sample)\n",
    "\n",
    "data_resized_holder = np.empty([nb_sample, desired_img_dim, desired_img_dim, img_depth], dtype='float32')\n",
    "\n",
    "for idx in range(nb_sample):\n",
    "    img_file1 = data_dir + test_img_file_path[idx].replace(\"\\\\\", \"/\")     # the image file path\n",
    "    # print(str(img_file1))\n",
    "    # 1. read the image\n",
    "    img1 = image.load_img(img_file1)\n",
    "\n",
    "    # 2. resize\n",
    "    img1 = img1.resize((desired_img_dim, desired_img_dim), resample=0)\n",
    "\n",
    "\n",
    "    # 6. give to the holder\n",
    "    data_resized_holder[idx] = img1\n",
    "    if(idx % 1000==0):\n",
    "        print('%d image loaded.' % idx)\n",
    "\n",
    "print('\\nImage file loaded, the shape is ' + str(data_resized_holder.shape))\n",
    "\n"
   ]
  },
  {
   "cell_type": "markdown",
   "metadata": {
    "colab_type": "text",
    "id": "4HTrJpg4c3so"
   },
   "source": [
    "**Load test labels**"
   ]
  },
  {
   "cell_type": "code",
   "execution_count": null,
   "metadata": {
    "colab": {
     "base_uri": "https://localhost:8080/",
     "height": 107
    },
    "colab_type": "code",
    "executionInfo": {
     "elapsed": 5662,
     "status": "ok",
     "timestamp": 1573934013026,
     "user": {
      "displayName": "Xiang Wang",
      "photoUrl": "https://lh3.googleusercontent.com/a-/AAuE7mDQoowdPZy7DcJE-ReKG0zueoBBu5SHQOULxnrP=s64",
      "userId": "04056541049722211033"
     },
     "user_tz": 300
    },
    "id": "v8AqWY1Uc8il",
    "outputId": "631abd80-a4fc-4f37-a440-e76300b119a3"
   },
   "outputs": [],
   "source": [
    "one_hot = True\n",
    "# loading the training labels\n",
    "print('Loading label file %s' % test_label_file)\n",
    "label_str = [str(line.strip()) for line in open(test_label_file).readlines()]\n",
    "nb_unique = len(label_str)\n",
    "labels_unique = le.transform(label_str)\n",
    "# print(labels_unique)\n",
    "labels_holder = np.hstack((  [ labels_unique[i] ] * 50 for i in range(nb_unique)))\n",
    "# print(labels_holder)\n",
    "nb_sample = len(labels_holder)\n",
    "if one_hot == True:\n",
    "    labels = np.array([[float(i == l) for i in range(nb_classes)] for l in labels_holder])\n",
    "else:\n",
    "    labels = labels_holder\n",
    "print('Labels loaded, shape is:' + str(labels.shape))\n",
    "\n"
   ]
  },
  {
   "cell_type": "code",
   "execution_count": null,
   "metadata": {
    "colab": {
     "base_uri": "https://localhost:8080/",
     "height": 170
    },
    "colab_type": "code",
    "executionInfo": {
     "elapsed": 379,
     "status": "error",
     "timestamp": 1573932602304,
     "user": {
      "displayName": "Xiang Wang",
      "photoUrl": "https://lh3.googleusercontent.com/a-/AAuE7mDQoowdPZy7DcJE-ReKG0zueoBBu5SHQOULxnrP=s64",
      "userId": "04056541049722211033"
     },
     "user_tz": 300
    },
    "id": "ozCM5RTqUUAO",
    "outputId": "370914ec-da04-4402-f144-641dd20d9b48"
   },
   "outputs": [],
   "source": [
    "x_test, nb_test_sample_1 = data_resized_holder, nb_sample"
   ]
  },
  {
   "cell_type": "code",
   "execution_count": null,
   "metadata": {
    "colab": {},
    "colab_type": "code",
    "id": "iWnMmIZIr1WD"
   },
   "outputs": [],
   "source": [
    "y_test, nb_test_sample_2 = labels, nb_sample"
   ]
  },
  {
   "cell_type": "code",
   "execution_count": null,
   "metadata": {
    "colab": {},
    "colab_type": "code",
    "id": "uWQRm7wPr1Uf"
   },
   "outputs": [],
   "source": [
    "del data_resized_holder\n",
    "del labels"
   ]
  },
  {
   "cell_type": "markdown",
   "metadata": {
    "colab_type": "text",
    "id": "D3ZlUwrMbuU0"
   },
   "source": [
    "**Saving x_test y_test .npy file**"
   ]
  },
  {
   "cell_type": "code",
   "execution_count": null,
   "metadata": {
    "colab": {},
    "colab_type": "code",
    "id": "y2Ax_Pror1N1"
   },
   "outputs": [],
   "source": [
    "np.save('/content/drive/My Drive/Colab Notebooks/SUN_Practice/x_test.npy',x_test)"
   ]
  },
  {
   "cell_type": "code",
   "execution_count": null,
   "metadata": {
    "colab": {},
    "colab_type": "code",
    "id": "V-hz8jYqr1LS"
   },
   "outputs": [],
   "source": [
    "np.save('/content/drive/My Drive/Colab Notebooks/SUN_Practice/y_test.npy',y_test)"
   ]
  },
  {
   "cell_type": "code",
   "execution_count": null,
   "metadata": {
    "colab": {},
    "colab_type": "code",
    "id": "_7jwAPhz1BlA"
   },
   "outputs": [],
   "source": [
    "del x_test\n",
    "del y_test"
   ]
  },
  {
   "cell_type": "code",
   "execution_count": null,
   "metadata": {
    "colab": {
     "base_uri": "https://localhost:8080/",
     "height": 34
    },
    "colab_type": "code",
    "executionInfo": {
     "elapsed": 221,
     "status": "ok",
     "timestamp": 1573934051537,
     "user": {
      "displayName": "Xiang Wang",
      "photoUrl": "https://lh3.googleusercontent.com/a-/AAuE7mDQoowdPZy7DcJE-ReKG0zueoBBu5SHQOULxnrP=s64",
      "userId": "04056541049722211033"
     },
     "user_tz": 300
    },
    "id": "3FqH3DXgx4-_",
    "outputId": "34050b8b-4fb4-4ef4-810b-27500f6fae86"
   },
   "outputs": [],
   "source": [
    "y_test.shape"
   ]
  },
  {
   "cell_type": "markdown",
   "metadata": {
    "colab_type": "text",
    "id": "H0qxvEuDb2Bm"
   },
   "source": [
    "# **Load train data and test data**"
   ]
  },
  {
   "cell_type": "markdown",
   "metadata": {
    "colab_type": "text",
    "id": "kjfUhhv9cHt2"
   },
   "source": [
    "**Load train data**"
   ]
  },
  {
   "cell_type": "code",
   "execution_count": 4,
   "metadata": {
    "colab": {},
    "colab_type": "code",
    "id": "XmY7YUS4b1p0"
   },
   "outputs": [],
   "source": [
    "x_train = np.load('/root/Code_GCP/SUN_Practice/x_tain.npy')"
   ]
  },
  {
   "cell_type": "code",
   "execution_count": 5,
   "metadata": {
    "colab": {},
    "colab_type": "code",
    "id": "bE6U8jrQr1I0"
   },
   "outputs": [],
   "source": [
    "y_train = np.load('/root/Code_GCP/SUN_Practice/y_train.npy')"
   ]
  },
  {
   "cell_type": "code",
   "execution_count": 6,
   "metadata": {
    "colab": {
     "base_uri": "https://localhost:8080/",
     "height": 34
    },
    "colab_type": "code",
    "executionInfo": {
     "elapsed": 238,
     "status": "ok",
     "timestamp": 1573932965611,
     "user": {
      "displayName": "Xiang Wang",
      "photoUrl": "https://lh3.googleusercontent.com/a-/AAuE7mDQoowdPZy7DcJE-ReKG0zueoBBu5SHQOULxnrP=s64",
      "userId": "04056541049722211033"
     },
     "user_tz": 300
    },
    "id": "SsZmWNNt0-1L",
    "outputId": "f5fabcd1-fbb7-4762-ef3f-3c19d851ccac"
   },
   "outputs": [
    {
     "data": {
      "text/plain": [
       "(19850, 224, 224, 3)"
      ]
     },
     "execution_count": 6,
     "metadata": {},
     "output_type": "execute_result"
    }
   ],
   "source": [
    "x_train.shape"
   ]
  },
  {
   "cell_type": "code",
   "execution_count": 7,
   "metadata": {
    "colab": {
     "base_uri": "https://localhost:8080/",
     "height": 34
    },
    "colab_type": "code",
    "executionInfo": {
     "elapsed": 234,
     "status": "ok",
     "timestamp": 1573933310216,
     "user": {
      "displayName": "Xiang Wang",
      "photoUrl": "https://lh3.googleusercontent.com/a-/AAuE7mDQoowdPZy7DcJE-ReKG0zueoBBu5SHQOULxnrP=s64",
      "userId": "04056541049722211033"
     },
     "user_tz": 300
    },
    "id": "k9yYDr_cuJYi",
    "outputId": "9aac95ac-00b6-4a33-fa3c-cead7bde3bbc"
   },
   "outputs": [
    {
     "name": "stdout",
     "output_type": "stream",
     "text": [
      "(19850, 397)\n"
     ]
    }
   ],
   "source": [
    "print(y_train.shape)"
   ]
  },
  {
   "cell_type": "markdown",
   "metadata": {
    "colab_type": "text",
    "id": "jUIzgBytcKvc"
   },
   "source": [
    "**Load test data**"
   ]
  },
  {
   "cell_type": "code",
   "execution_count": 8,
   "metadata": {
    "colab": {},
    "colab_type": "code",
    "id": "adiGDaLlr1Fc"
   },
   "outputs": [],
   "source": [
    "x_test = np.load('/root/Code_GCP/SUN_Practice/x_test.npy')"
   ]
  },
  {
   "cell_type": "code",
   "execution_count": 9,
   "metadata": {
    "colab": {},
    "colab_type": "code",
    "id": "5r_Eogv7r1Ci"
   },
   "outputs": [],
   "source": [
    "y_test = np.load('/root/Code_GCP/SUN_Practice/y_test.npy')"
   ]
  },
  {
   "cell_type": "code",
   "execution_count": 10,
   "metadata": {
    "colab": {
     "base_uri": "https://localhost:8080/",
     "height": 223
    },
    "colab_type": "code",
    "executionInfo": {
     "elapsed": 287,
     "status": "error",
     "timestamp": 1573934533370,
     "user": {
      "displayName": "Xiang Wang",
      "photoUrl": "https://lh3.googleusercontent.com/a-/AAuE7mDQoowdPZy7DcJE-ReKG0zueoBBu5SHQOULxnrP=s64",
      "userId": "04056541049722211033"
     },
     "user_tz": 300
    },
    "id": "6caRVzVgr04s",
    "outputId": "511eeac4-b47f-41a4-9460-386d26fc2e8e"
   },
   "outputs": [
    {
     "name": "stdout",
     "output_type": "stream",
     "text": [
      "(19850, 224, 224, 3)\n",
      "(19850, 397)\n",
      "(19850, 224, 224, 3)\n",
      "(19850, 397)\n"
     ]
    }
   ],
   "source": [
    "print(x_train.shape)\n",
    "print(y_train.shape)\n",
    "print(x_test.shape)\n",
    "print(y_test.shape)"
   ]
  },
  {
   "cell_type": "code",
   "execution_count": 11,
   "metadata": {},
   "outputs": [
    {
     "name": "stdout",
     "output_type": "stream",
     "text": [
      "/bin/sh: 1: /opt/bin/nvidia-smi: not found\r\n"
     ]
    }
   ],
   "source": [
    "!/opt/bin/nvidia-smi"
   ]
  },
  {
   "cell_type": "markdown",
   "metadata": {
    "colab_type": "text",
    "id": "zWFVHQevp6w6"
   },
   "source": [
    "# **Data Auguation**"
   ]
  },
  {
   "cell_type": "code",
   "execution_count": null,
   "metadata": {
    "colab": {},
    "colab_type": "code",
    "id": "AcHfD_hsquj9"
   },
   "outputs": [],
   "source": [
    "generator = ImageDataGenerator(\n",
    "        rotation_range=40,\n",
    "        width_shift_range=0.2,\n",
    "        height_shift_range=0.2,\n",
    "        shear_range=0.2,\n",
    "        zoom_range=0.2,\n",
    "        horizontal_flip=True,\n",
    "        fill_mode='nearest')\n"
   ]
  },
  {
   "cell_type": "markdown",
   "metadata": {},
   "source": [
    "## Set data to one-hot encoded format (vector of 397 class binary values)"
   ]
  },
  {
   "cell_type": "code",
   "execution_count": null,
   "metadata": {},
   "outputs": [],
   "source": [
    "# import keras\n",
    "\n",
    "# y_train = keras.utils.to_categorical(y_train, 397)\n",
    "# y_test = keras.utils.to_categorical(y_test, 397)"
   ]
  },
  {
   "cell_type": "code",
   "execution_count": 11,
   "metadata": {},
   "outputs": [],
   "source": [
    "from tensorflow.keras.applications.vgg16 import preprocess_input\n",
    "\n",
    "x_train = preprocess_input(x_train)\n",
    "x_test = preprocess_input(x_test)\n",
    "# x_train /= 255\n",
    "# x_test /= 255"
   ]
  },
  {
   "cell_type": "code",
   "execution_count": null,
   "metadata": {},
   "outputs": [],
   "source": [
    "y_train.shape"
   ]
  },
  {
   "cell_type": "markdown",
   "metadata": {
    "colab_type": "text",
    "id": "Q6tkvIHcd3az"
   },
   "source": [
    "# **Using VGG16 Pre-trained model based imagnet train this dataset**"
   ]
  },
  {
   "cell_type": "code",
   "execution_count": null,
   "metadata": {
    "colab": {},
    "colab_type": "code",
    "id": "ADBZmvx6mMcL"
   },
   "outputs": [],
   "source": [
    "import os\n",
    "import keras\n",
    "from keras.models import Model\n",
    "from keras.layers import Dense,Flatten,Dropout\n",
    "from keras import datasets\n",
    "from keras.applications.vgg16 import VGG16\n",
    "#from vgg16_places_365 import VGG16_Places365 \n",
    "from keras.optimizers import SGD, Adam\n",
    "from keras import optimizers\n",
    "from keras.callbacks import EarlyStopping\n"
   ]
  },
  {
   "cell_type": "code",
   "execution_count": 20,
   "metadata": {
    "colab": {},
    "colab_type": "code",
    "id": "TdpsHSDztMGO"
   },
   "outputs": [],
   "source": [
    "dim=224\n",
    "num_classes=397"
   ]
  },
  {
   "cell_type": "code",
   "execution_count": null,
   "metadata": {
    "colab": {},
    "colab_type": "code",
    "id": "oOo7CvZinqyR"
   },
   "outputs": [],
   "source": [
    "model_sun_vgg = VGG16(include_top=False, weights='imagenet', input_shape=(dim, dim, 3))\n",
    "\n",
    "for layer in model_sun_vgg.layers:\n",
    "    layer.trainable = False\n",
    "    \n",
    "model = Flatten()(model_sun_vgg.output)\n",
    "# model.add(layers.BatchNormalization())\n",
    "#keras.layers.normalization.BatchNormalization(axis=-1, momentum=0.99, epsilon=0.001, center=True, scale=True, beta_initializer='zeros', gamma_initializer='ones', moving_mean_initializer='zeros', moving_variance_initializer='ones', beta_regularizer=None, gamma_regularizer=None, beta_constraint=None, gamma_constraint=None)\n",
    "model = Dense(4096, activation=\"relu\")(model)\n",
    "model = Dense(1000, activation=\"relu\")(model)\n",
    "model = Dense(1000, activation=\"relu\")(model)\n",
    "model = Dropout(0.3)(model)\n",
    "model = Dense(num_classes, activation=\"softmax\")(model)\n",
    "model_pretrain_vgg = Model(model_sun_vgg.input, model, name='model_pretrain_vgg')\n",
    "model_pretrain_vgg.summary()\n"
   ]
  },
  {
   "cell_type": "code",
   "execution_count": null,
   "metadata": {},
   "outputs": [],
   "source": [
    "from keras import optimizers\n",
    "from keras.callbacks import EarlyStopping\n"
   ]
  },
  {
   "cell_type": "code",
   "execution_count": null,
   "metadata": {},
   "outputs": [],
   "source": [
    "def learning_rate_schedule(epoch):\n",
    "    if epoch <= 10:\n",
    "        return 1e-4 # 0.00001\n",
    "    elif epoch <= 20:\n",
    "        return 1e-5\n",
    "    elif epoch <= 30:\n",
    "        return 1e-6\n",
    "    else:\n",
    "        return 1e-7\n",
    "    return LR"
   ]
  },
  {
   "cell_type": "code",
   "execution_count": null,
   "metadata": {
    "colab": {},
    "colab_type": "code",
    "id": "h3Empe6DsWrR"
   },
   "outputs": [],
   "source": [
    "#learning_rate = 0.05\n",
    "# batch_size=64\n",
    "# Epoch = 10\n",
    "# decay_rate = learning_rate / Epoch\n",
    "# momentum = 0.9\n",
    "# #sgd = SGD(lr=learning_rate, momentum=momentum, decay=decay_rate, nesterov=False)\n",
    "# # sgd=SGD(lr=0.05,decay=1e-5)\n",
    "# #opt= Adam(lr=0.01)\n"
   ]
  },
  {
   "cell_type": "code",
   "execution_count": null,
   "metadata": {
    "colab": {},
    "colab_type": "code",
    "id": "Q7XUm208tFtQ"
   },
   "outputs": [],
   "source": [
    "model_pretrain_vgg.save_weights('model_sun_initial.h5')"
   ]
  },
  {
   "cell_type": "code",
   "execution_count": null,
   "metadata": {
    "colab": {},
    "colab_type": "code",
    "id": "fHV0xaist9Yn"
   },
   "outputs": [],
   "source": [
    "batch_size = 128\n",
    "training_runs = []\n",
    "for i in range(3):\n",
    "    #model_updated.compile(loss='categorical_crossentropy', optimizer='sgd', metrics=['accuracy'])\n",
    "  \n",
    "\n",
    "    model_pretrain_vgg.compile(loss='mean_squared_error', optimizer=optimizers.adam(lr=0.0001), metrics=['accuracy'])\n",
    "    keras.callbacks.LearningRateScheduler(learning_rate_schedule)\n",
    "\n",
    "#     history = model_pretrain_vgg.fit_generator(generator.flow(x_train, y_train, batch_size=batch_size),\n",
    "#                     steps_per_epoch=len(x_train) / batch_size, \n",
    "#                     epochs=10,\n",
    "#                     verbose=1,\n",
    "#                     shuffle=True ,\n",
    "#                     validation_data=(x_test, y_test))\n",
    "    history = model_pretrain_vgg.fit(\n",
    "    x_train, y_train,\n",
    "    batch_size=128, shuffle=True, epochs=10,\n",
    "    validation_data=(x_test, y_test)\n",
    "    )\n",
    "\n",
    "   \n",
    "    training_runs.append(history)\n",
    "    model_pretrain_vgg.get_weights()\n",
    "    if i == 2:\n",
    "        model_pretrain_vgg.save_weights('model1.h5')\n",
    "    else:\n",
    "        model_pretrain_vgg.load_weights('model_sun_initial.h5')\n",
    "    print()"
   ]
  },
  {
   "cell_type": "code",
   "execution_count": null,
   "metadata": {},
   "outputs": [],
   "source": [
    "import tensorflow as tf\n",
    "#sess = tf.Session(config=tf.ConfigProto(log_device_placement=True))\n",
    "tf.__version__\n",
    "tf.test.is_gpu_available()"
   ]
  },
  {
   "cell_type": "code",
   "execution_count": null,
   "metadata": {},
   "outputs": [],
   "source": []
  },
  {
   "cell_type": "code",
   "execution_count": null,
   "metadata": {
    "colab": {},
    "colab_type": "code",
    "id": "-NyKV7S7sdBD"
   },
   "outputs": [],
   "source": [
    "#hist = pretrain_model.fit(x_train, y_train, validation_data = (x_test, y_test), epochs = Epoch, batch_size = 10)"
   ]
  },
  {
   "cell_type": "code",
   "execution_count": null,
   "metadata": {
    "colab": {},
    "colab_type": "code",
    "id": "kAMlpDA9wHMi"
   },
   "outputs": [],
   "source": [
    "import matplotlib.pyplot as plt\n",
    "import numpy as np\n",
    "\n",
    "plt.subplot(2, 3, 1)\n",
    "plt.plot(training_runs[0].history['acc'])\n",
    "plt.legend(['train'], loc='lower right')\n",
    "\n",
    "plt.subplot(2, 3, 2)\n",
    "plt.plot(training_runs[1].history['acc'])\n",
    "plt.legend(['train'], loc='lower right')\n",
    "\n",
    "plt.subplot(2, 3, 3)\n",
    "plt.plot(training_runs[2].history['acc'])\n",
    "plt.legend(['train'], loc='lower right')\n",
    "\n",
    "plt.subplot(2, 3, 4)\n",
    "plt.plot(training_runs[0].history['val_acc'])\n",
    "plt.legend(['test'], loc='lower right')\n",
    "\n",
    "plt.subplot(2, 3, 5)\n",
    "plt.plot(training_runs[1].history['val_acc'])\n",
    "plt.legend(['test'], loc='lower right')\n",
    "\n",
    "plt.subplot(2, 3, 6)\n",
    "plt.plot(training_runs[2].history['val_acc'])\n",
    "plt.legend(['test'], loc='lower right')\n",
    "\n",
    "plt.tight_layout() \n",
    "\n",
    "plt.show()\n",
    "\n"
   ]
  },
  {
   "cell_type": "code",
   "execution_count": null,
   "metadata": {},
   "outputs": [],
   "source": [
    "acc = history.history['acc']\n",
    "val_acc = history.history['val_acc']\n",
    "\n",
    "loss = history.history['loss']\n",
    "val_loss = history.history['val_loss']\n",
    "\n",
    "plt.figure(figsize=(8, 8))\n",
    "plt.subplot(2, 1, 1)\n",
    "plt.plot(acc, label='Training Accuracy')\n",
    "plt.plot(val_acc, label='Validation Accuracy')\n",
    "plt.legend(loc='lower right')\n",
    "plt.ylabel('Accuracy')\n",
    "plt.ylim([min(plt.ylim()),1])\n",
    "plt.title('Training and Validation Accuracy')\n",
    "\n",
    "plt.subplot(2, 1, 2)\n",
    "plt.plot(loss, label='Training Loss')\n",
    "plt.plot(val_loss, label='Validation Loss')\n",
    "plt.legend(loc='upper right')\n",
    "plt.ylabel('Cross Entropy')\n",
    "plt.ylim([0,1.0])\n",
    "plt.title('Training and Validation Loss')\n",
    "plt.xlabel('epoch')\n",
    "plt.show()"
   ]
  },
  {
   "cell_type": "code",
   "execution_count": null,
   "metadata": {},
   "outputs": [],
   "source": [
    "print(\"Average training accuracy: {}\".format(np.mean([training_runs[0].history['acc'][-1], \n",
    "                                                     training_runs[1].history['acc'][-1], training_runs[2].history['acc'][-1]])))\n",
    "print(\"Average testing accuracy: {}\".format(np.mean([training_runs[0].history['val_acc'][-1], \n",
    "                                                     training_runs[1].history['val_acc'][-1], training_runs[2].history['val_acc'][-1]])))"
   ]
  },
  {
   "cell_type": "code",
   "execution_count": null,
   "metadata": {},
   "outputs": [],
   "source": [
    "# loss, accuracy = model.evaluate(x_test, y_test, verbose=0)\n",
    "# print('Test loss:', loss)\n",
    "# print('Test accuracy:', accuracy)"
   ]
  },
  {
   "cell_type": "markdown",
   "metadata": {},
   "source": [
    "# VGG16 Pre-trian model based on Places365"
   ]
  },
  {
   "cell_type": "code",
   "execution_count": 12,
   "metadata": {},
   "outputs": [],
   "source": [
    "import vgg16_places_365"
   ]
  },
  {
   "cell_type": "code",
   "execution_count": 13,
   "metadata": {},
   "outputs": [],
   "source": [
    "from keras import backend as K\n",
    "from keras.layers import Input\n",
    "from keras.layers.core import Activation, Dense, Flatten\n",
    "from keras.layers.pooling import MaxPooling2D\n",
    "from keras.models import Model\n",
    "from keras.layers import Conv2D\n",
    "from keras.regularizers import l2\n",
    "from keras.layers.core import Dropout\n",
    "from keras.layers import GlobalAveragePooling2D\n",
    "from keras.layers import GlobalMaxPooling2D\n",
    "from keras_applications.imagenet_utils import _obtain_input_shape\n",
    "from keras.engine.topology import get_source_inputs\n",
    "from keras.utils.data_utils import get_file\n",
    "from keras.utils import layer_utils\n",
    "from keras.preprocessing import image\n",
    "from keras.applications.imagenet_utils import preprocess_input\n",
    "from urllib.request import urlopen\n",
    "import numpy as np\n",
    "from PIL import Image\n",
    "from cv2 import resize"
   ]
  },
  {
   "cell_type": "code",
   "execution_count": 14,
   "metadata": {},
   "outputs": [],
   "source": [
    "WEIGHTS_PATH = 'https://github.com/GKalliatakis/Keras-VGG16-places365/releases/download/v1.0/vgg16-places365_weights_tf_dim_ordering_tf_kernels.h5'\n",
    "WEIGHTS_PATH_NO_TOP = 'https://github.com/GKalliatakis/Keras-VGG16-places365/releases/download/v1.0/vgg16-places365_weights_tf_dim_ordering_tf_kernels_notop.h5'\n"
   ]
  },
  {
   "cell_type": "code",
   "execution_count": 15,
   "metadata": {},
   "outputs": [],
   "source": [
    "from vgg16_places_365 import VGG16_Places365"
   ]
  },
  {
   "cell_type": "code",
   "execution_count": 16,
   "metadata": {},
   "outputs": [],
   "source": [
    "model_places365 = VGG16_Places365(include_top=False, \n",
    "                                  weights='places',\n",
    "                                  input_tensor=None, \n",
    "                                  input_shape=(224,224,3),\n",
    "                                  pooling=None,\n",
    "                                  classes=365\n",
    "                                 )\n"
   ]
  },
  {
   "cell_type": "code",
   "execution_count": 17,
   "metadata": {},
   "outputs": [
    {
     "name": "stdout",
     "output_type": "stream",
     "text": [
      "_________________________________________________________________\n",
      "Layer (type)                 Output Shape              Param #   \n",
      "=================================================================\n",
      "input_1 (InputLayer)         (None, 224, 224, 3)       0         \n",
      "_________________________________________________________________\n",
      "block1_conv1 (Conv2D)        (None, 224, 224, 64)      1792      \n",
      "_________________________________________________________________\n",
      "block1_conv2 (Conv2D)        (None, 224, 224, 64)      36928     \n",
      "_________________________________________________________________\n",
      "block1_pool (MaxPooling2D)   (None, 112, 112, 64)      0         \n",
      "_________________________________________________________________\n",
      "block2_conv1 (Conv2D)        (None, 112, 112, 128)     73856     \n",
      "_________________________________________________________________\n",
      "block2_conv2 (Conv2D)        (None, 112, 112, 128)     147584    \n",
      "_________________________________________________________________\n",
      "block2_pool (MaxPooling2D)   (None, 56, 56, 128)       0         \n",
      "_________________________________________________________________\n",
      "block3_conv1 (Conv2D)        (None, 56, 56, 256)       295168    \n",
      "_________________________________________________________________\n",
      "block3_conv2 (Conv2D)        (None, 56, 56, 256)       590080    \n",
      "_________________________________________________________________\n",
      "block3_conv3 (Conv2D)        (None, 56, 56, 256)       590080    \n",
      "_________________________________________________________________\n",
      "block3_pool (MaxPooling2D)   (None, 28, 28, 256)       0         \n",
      "_________________________________________________________________\n",
      "block4_conv1 (Conv2D)        (None, 28, 28, 512)       1180160   \n",
      "_________________________________________________________________\n",
      "block4_conv2 (Conv2D)        (None, 28, 28, 512)       2359808   \n",
      "_________________________________________________________________\n",
      "block4_conv3 (Conv2D)        (None, 28, 28, 512)       2359808   \n",
      "_________________________________________________________________\n",
      "block4_pool (MaxPooling2D)   (None, 14, 14, 512)       0         \n",
      "_________________________________________________________________\n",
      "block5_conv1 (Conv2D)        (None, 14, 14, 512)       2359808   \n",
      "_________________________________________________________________\n",
      "block5_conv2 (Conv2D)        (None, 14, 14, 512)       2359808   \n",
      "_________________________________________________________________\n",
      "block5_conv3 (Conv2D)        (None, 14, 14, 512)       2359808   \n",
      "_________________________________________________________________\n",
      "block5_pool (MaxPooling2D)   (None, 7, 7, 512)         0         \n",
      "=================================================================\n",
      "Total params: 14,714,688\n",
      "Trainable params: 14,714,688\n",
      "Non-trainable params: 0\n",
      "_________________________________________________________________\n"
     ]
    }
   ],
   "source": [
    "model_places365.summary()"
   ]
  },
  {
   "cell_type": "code",
   "execution_count": 21,
   "metadata": {},
   "outputs": [
    {
     "name": "stdout",
     "output_type": "stream",
     "text": [
      "_________________________________________________________________\n",
      "Layer (type)                 Output Shape              Param #   \n",
      "=================================================================\n",
      "input_1 (InputLayer)         (None, 224, 224, 3)       0         \n",
      "_________________________________________________________________\n",
      "block1_conv1 (Conv2D)        (None, 224, 224, 64)      1792      \n",
      "_________________________________________________________________\n",
      "block1_conv2 (Conv2D)        (None, 224, 224, 64)      36928     \n",
      "_________________________________________________________________\n",
      "block1_pool (MaxPooling2D)   (None, 112, 112, 64)      0         \n",
      "_________________________________________________________________\n",
      "block2_conv1 (Conv2D)        (None, 112, 112, 128)     73856     \n",
      "_________________________________________________________________\n",
      "block2_conv2 (Conv2D)        (None, 112, 112, 128)     147584    \n",
      "_________________________________________________________________\n",
      "block2_pool (MaxPooling2D)   (None, 56, 56, 128)       0         \n",
      "_________________________________________________________________\n",
      "block3_conv1 (Conv2D)        (None, 56, 56, 256)       295168    \n",
      "_________________________________________________________________\n",
      "block3_conv2 (Conv2D)        (None, 56, 56, 256)       590080    \n",
      "_________________________________________________________________\n",
      "block3_conv3 (Conv2D)        (None, 56, 56, 256)       590080    \n",
      "_________________________________________________________________\n",
      "block3_pool (MaxPooling2D)   (None, 28, 28, 256)       0         \n",
      "_________________________________________________________________\n",
      "block4_conv1 (Conv2D)        (None, 28, 28, 512)       1180160   \n",
      "_________________________________________________________________\n",
      "block4_conv2 (Conv2D)        (None, 28, 28, 512)       2359808   \n",
      "_________________________________________________________________\n",
      "block4_conv3 (Conv2D)        (None, 28, 28, 512)       2359808   \n",
      "_________________________________________________________________\n",
      "block4_pool (MaxPooling2D)   (None, 14, 14, 512)       0         \n",
      "_________________________________________________________________\n",
      "block5_conv1 (Conv2D)        (None, 14, 14, 512)       2359808   \n",
      "_________________________________________________________________\n",
      "block5_conv2 (Conv2D)        (None, 14, 14, 512)       2359808   \n",
      "_________________________________________________________________\n",
      "block5_conv3 (Conv2D)        (None, 14, 14, 512)       2359808   \n",
      "_________________________________________________________________\n",
      "block5_pool (MaxPooling2D)   (None, 7, 7, 512)         0         \n",
      "_________________________________________________________________\n",
      "flatten_2 (Flatten)          (None, 25088)             0         \n",
      "_________________________________________________________________\n",
      "dense_4 (Dense)              (None, 4096)              102764544 \n",
      "_________________________________________________________________\n",
      "dense_5 (Dense)              (None, 1000)              4097000   \n",
      "_________________________________________________________________\n",
      "dense_6 (Dense)              (None, 1000)              1001000   \n",
      "_________________________________________________________________\n",
      "dropout_2 (Dropout)          (None, 1000)              0         \n",
      "_________________________________________________________________\n",
      "dense_7 (Dense)              (None, 397)               397397    \n",
      "=================================================================\n",
      "Total params: 122,974,629\n",
      "Trainable params: 108,259,941\n",
      "Non-trainable params: 14,714,688\n",
      "_________________________________________________________________\n"
     ]
    }
   ],
   "source": [
    "for layer in model_places365.layers:\n",
    "    layer.trainable = False\n",
    "    \n",
    "model = Flatten()(model_places365.output)\n",
    "# model.add(layers.BatchNormalization())\n",
    "#keras.layers.normalization.BatchNormalization(axis=-1, momentum=0.99, epsilon=0.001, center=True, scale=True, beta_initializer='zeros', gamma_initializer='ones', moving_mean_initializer='zeros', moving_variance_initializer='ones', beta_regularizer=None, gamma_regularizer=None, beta_constraint=None, gamma_constraint=None)\n",
    "model = Dense(4096, activation=\"relu\")(model)\n",
    "model = Dense(1000, activation=\"relu\")(model)\n",
    "model = Dense(1000, activation=\"relu\")(model)\n",
    "model = Dropout(0.3)(model)\n",
    "model = Dense(num_classes, activation=\"softmax\")(model)\n",
    "model_pretrain_vgg_places = Model(model_places365.input, model, name='model_pretrain_vgg_places')\n",
    "model_pretrain_vgg_places.summary()"
   ]
  },
  {
   "cell_type": "code",
   "execution_count": 22,
   "metadata": {},
   "outputs": [],
   "source": [
    "from keras import optimizers\n",
    "from keras.callbacks import EarlyStopping\n"
   ]
  },
  {
   "cell_type": "code",
   "execution_count": 23,
   "metadata": {},
   "outputs": [],
   "source": [
    "def learning_rate_schedule(epoch):\n",
    "    if epoch <= 10:\n",
    "        return 1e-4 # 0.00001\n",
    "    elif epoch <= 20:\n",
    "        return 1e-5\n",
    "    elif epoch <= 30:\n",
    "        return 1e-6\n",
    "    else:\n",
    "        return 1e-7\n",
    "    return LR"
   ]
  },
  {
   "cell_type": "code",
   "execution_count": 24,
   "metadata": {},
   "outputs": [],
   "source": [
    "model_pretrain_vgg_places.save_weights('model_sun_places_initial.h5')"
   ]
  },
  {
   "cell_type": "code",
   "execution_count": 25,
   "metadata": {},
   "outputs": [
    {
     "name": "stdout",
     "output_type": "stream",
     "text": [
      "Train on 19850 samples, validate on 19850 samples\n",
      "Epoch 1/50\n",
      "19850/19850 [==============================] - 277s 14ms/step - loss: 0.2382 - acc: 0.0054 - val_loss: 0.2377 - val_acc: 0.0142\n",
      "Epoch 2/50\n",
      "19850/19850 [==============================] - 243s 12ms/step - loss: 0.2376 - acc: 0.0251 - val_loss: 0.2376 - val_acc: 0.0289\n",
      "Epoch 3/50\n",
      "19850/19850 [==============================] - 243s 12ms/step - loss: 0.2376 - acc: 0.0481 - val_loss: 0.2376 - val_acc: 0.0522\n",
      "Epoch 4/50\n",
      "19850/19850 [==============================] - 243s 12ms/step - loss: 0.2375 - acc: 0.0844 - val_loss: 0.2375 - val_acc: 0.1008\n",
      "Epoch 5/50\n",
      "19850/19850 [==============================] - 242s 12ms/step - loss: 0.2374 - acc: 0.1434 - val_loss: 0.2375 - val_acc: 0.1450\n",
      "Epoch 6/50\n",
      "19850/19850 [==============================] - 243s 12ms/step - loss: 0.2373 - acc: 0.2058 - val_loss: 0.2374 - val_acc: 0.1940\n",
      "Epoch 7/50\n",
      "19850/19850 [==============================] - 242s 12ms/step - loss: 0.2371 - acc: 0.2737 - val_loss: 0.2373 - val_acc: 0.2304\n",
      "Epoch 8/50\n",
      "19850/19850 [==============================] - 243s 12ms/step - loss: 0.2370 - acc: 0.3349 - val_loss: 0.2372 - val_acc: 0.2768\n",
      "Epoch 9/50\n",
      "19850/19850 [==============================] - 243s 12ms/step - loss: 0.2368 - acc: 0.3988 - val_loss: 0.2372 - val_acc: 0.2958\n",
      "Epoch 10/50\n",
      "19850/19850 [==============================] - 242s 12ms/step - loss: 0.2367 - acc: 0.4523 - val_loss: 0.2372 - val_acc: 0.3254\n",
      "Epoch 11/50\n",
      "19850/19850 [==============================] - 243s 12ms/step - loss: 0.2365 - acc: 0.5150 - val_loss: 0.2371 - val_acc: 0.3459\n",
      "Epoch 12/50\n",
      "19850/19850 [==============================] - 243s 12ms/step - loss: 0.2364 - acc: 0.5726 - val_loss: 0.2371 - val_acc: 0.3743\n",
      "Epoch 13/50\n",
      "19850/19850 [==============================] - 243s 12ms/step - loss: 0.2362 - acc: 0.6201 - val_loss: 0.2371 - val_acc: 0.3867\n",
      "Epoch 14/50\n",
      "19850/19850 [==============================] - 243s 12ms/step - loss: 0.2361 - acc: 0.6676 - val_loss: 0.2370 - val_acc: 0.4051\n",
      "Epoch 15/50\n",
      "19850/19850 [==============================] - 243s 12ms/step - loss: 0.2360 - acc: 0.7029 - val_loss: 0.2370 - val_acc: 0.4119\n",
      "Epoch 16/50\n",
      "19850/19850 [==============================] - 243s 12ms/step - loss: 0.2359 - acc: 0.7493 - val_loss: 0.2370 - val_acc: 0.4259\n",
      "Epoch 17/50\n",
      "19850/19850 [==============================] - 243s 12ms/step - loss: 0.2358 - acc: 0.7894 - val_loss: 0.2370 - val_acc: 0.4419\n",
      "Epoch 18/50\n",
      "19850/19850 [==============================] - 243s 12ms/step - loss: 0.2357 - acc: 0.8219 - val_loss: 0.2370 - val_acc: 0.4472\n",
      "Epoch 19/50\n",
      "19850/19850 [==============================] - 243s 12ms/step - loss: 0.2356 - acc: 0.8563 - val_loss: 0.2370 - val_acc: 0.4581\n",
      "Epoch 20/50\n",
      "19850/19850 [==============================] - 243s 12ms/step - loss: 0.2355 - acc: 0.8772 - val_loss: 0.2369 - val_acc: 0.4661\n",
      "Epoch 21/50\n",
      "19850/19850 [==============================] - 243s 12ms/step - loss: 0.2355 - acc: 0.8930 - val_loss: 0.2369 - val_acc: 0.4649\n",
      "Epoch 22/50\n",
      "19850/19850 [==============================] - 243s 12ms/step - loss: 0.2354 - acc: 0.9090 - val_loss: 0.2369 - val_acc: 0.4693\n",
      "Epoch 23/50\n",
      "19850/19850 [==============================] - 243s 12ms/step - loss: 0.2354 - acc: 0.9184 - val_loss: 0.2369 - val_acc: 0.4728\n",
      "Epoch 24/50\n",
      "19850/19850 [==============================] - 243s 12ms/step - loss: 0.2354 - acc: 0.9295 - val_loss: 0.2370 - val_acc: 0.4751\n",
      "Epoch 25/50\n",
      "19850/19850 [==============================] - 243s 12ms/step - loss: 0.2354 - acc: 0.9372 - val_loss: 0.2370 - val_acc: 0.4736\n",
      "Epoch 26/50\n",
      "19850/19850 [==============================] - 243s 12ms/step - loss: 0.2353 - acc: 0.9426 - val_loss: 0.2370 - val_acc: 0.4755\n",
      "Epoch 27/50\n",
      "19850/19850 [==============================] - 243s 12ms/step - loss: 0.2353 - acc: 0.9491 - val_loss: 0.2370 - val_acc: 0.4728\n",
      "Epoch 28/50\n",
      "19850/19850 [==============================] - 243s 12ms/step - loss: 0.2353 - acc: 0.9520 - val_loss: 0.2370 - val_acc: 0.4829\n",
      "Epoch 29/50\n",
      "19850/19850 [==============================] - 243s 12ms/step - loss: 0.2353 - acc: 0.9561 - val_loss: 0.2370 - val_acc: 0.4866\n",
      "Epoch 30/50\n",
      "19850/19850 [==============================] - 243s 12ms/step - loss: 0.2353 - acc: 0.9620 - val_loss: 0.2370 - val_acc: 0.4834\n",
      "Epoch 31/50\n",
      "19850/19850 [==============================] - 243s 12ms/step - loss: 0.2353 - acc: 0.9631 - val_loss: 0.2370 - val_acc: 0.4833\n",
      "Epoch 32/50\n",
      "19850/19850 [==============================] - 243s 12ms/step - loss: 0.2353 - acc: 0.9658 - val_loss: 0.2370 - val_acc: 0.4916\n",
      "Epoch 33/50\n",
      "19850/19850 [==============================] - 243s 12ms/step - loss: 0.2353 - acc: 0.9673 - val_loss: 0.2370 - val_acc: 0.4798\n",
      "Epoch 34/50\n",
      "19850/19850 [==============================] - 243s 12ms/step - loss: 0.2353 - acc: 0.9676 - val_loss: 0.2370 - val_acc: 0.4787\n",
      "Epoch 35/50\n",
      "19850/19850 [==============================] - 243s 12ms/step - loss: 0.2353 - acc: 0.9676 - val_loss: 0.2370 - val_acc: 0.4802\n",
      "Epoch 36/50\n",
      "19850/19850 [==============================] - 243s 12ms/step - loss: 0.2353 - acc: 0.9704 - val_loss: 0.2370 - val_acc: 0.4826\n",
      "Epoch 37/50\n",
      "19850/19850 [==============================] - 243s 12ms/step - loss: 0.2353 - acc: 0.9727 - val_loss: 0.2370 - val_acc: 0.4876\n",
      "Epoch 38/50\n",
      "19850/19850 [==============================] - 243s 12ms/step - loss: 0.2353 - acc: 0.9728 - val_loss: 0.2370 - val_acc: 0.4855\n",
      "Epoch 39/50\n",
      "19850/19850 [==============================] - 243s 12ms/step - loss: 0.2353 - acc: 0.9741 - val_loss: 0.2370 - val_acc: 0.4885\n",
      "Epoch 40/50\n",
      "19850/19850 [==============================] - 243s 12ms/step - loss: 0.2353 - acc: 0.9745 - val_loss: 0.2370 - val_acc: 0.4843\n",
      "Epoch 41/50\n",
      "19850/19850 [==============================] - 243s 12ms/step - loss: 0.2352 - acc: 0.9757 - val_loss: 0.2370 - val_acc: 0.4796\n",
      "Epoch 42/50\n",
      "19850/19850 [==============================] - 243s 12ms/step - loss: 0.2353 - acc: 0.9715 - val_loss: 0.2371 - val_acc: 0.4791\n",
      "Epoch 43/50\n",
      "19850/19850 [==============================] - 244s 12ms/step - loss: 0.2353 - acc: 0.9738 - val_loss: 0.2370 - val_acc: 0.4827\n",
      "Epoch 44/50\n",
      "19850/19850 [==============================] - 243s 12ms/step - loss: 0.2353 - acc: 0.9729 - val_loss: 0.2371 - val_acc: 0.4810\n",
      "Epoch 45/50\n",
      "19850/19850 [==============================] - 244s 12ms/step - loss: 0.2353 - acc: 0.9724 - val_loss: 0.2371 - val_acc: 0.4816\n",
      "Epoch 46/50\n",
      "19850/19850 [==============================] - 243s 12ms/step - loss: 0.2353 - acc: 0.9721 - val_loss: 0.2371 - val_acc: 0.4823\n",
      "Epoch 47/50\n",
      "19850/19850 [==============================] - 244s 12ms/step - loss: 0.2353 - acc: 0.9750 - val_loss: 0.2371 - val_acc: 0.4808\n",
      "Epoch 48/50\n",
      "19850/19850 [==============================] - 244s 12ms/step - loss: 0.2353 - acc: 0.9741 - val_loss: 0.2371 - val_acc: 0.4740\n",
      "Epoch 49/50\n",
      "19850/19850 [==============================] - 244s 12ms/step - loss: 0.2353 - acc: 0.9744 - val_loss: 0.2371 - val_acc: 0.4791\n",
      "Epoch 50/50\n",
      "19850/19850 [==============================] - 244s 12ms/step - loss: 0.2353 - acc: 0.9755 - val_loss: 0.2371 - val_acc: 0.4753\n",
      "\n",
      "Train on 19850 samples, validate on 19850 samples\n",
      "Epoch 1/50\n",
      "19850/19850 [==============================] - 252s 13ms/step - loss: 0.2382 - acc: 0.0038 - val_loss: 0.2377 - val_acc: 0.0109\n",
      "Epoch 2/50\n",
      "19850/19850 [==============================] - 243s 12ms/step - loss: 0.2377 - acc: 0.0229 - val_loss: 0.2376 - val_acc: 0.0297\n",
      "Epoch 3/50\n",
      "19850/19850 [==============================] - 243s 12ms/step - loss: 0.2376 - acc: 0.0536 - val_loss: 0.2376 - val_acc: 0.0681\n",
      "Epoch 4/50\n",
      "19850/19850 [==============================] - 243s 12ms/step - loss: 0.2375 - acc: 0.0995 - val_loss: 0.2375 - val_acc: 0.1054\n",
      "Epoch 5/50\n",
      "19850/19850 [==============================] - 243s 12ms/step - loss: 0.2374 - acc: 0.1570 - val_loss: 0.2374 - val_acc: 0.1560\n",
      "Epoch 6/50\n",
      "19850/19850 [==============================] - 243s 12ms/step - loss: 0.2373 - acc: 0.2223 - val_loss: 0.2374 - val_acc: 0.2062\n",
      "Epoch 7/50\n",
      "19850/19850 [==============================] - 243s 12ms/step - loss: 0.2371 - acc: 0.2890 - val_loss: 0.2373 - val_acc: 0.2391\n",
      "Epoch 8/50\n",
      "19850/19850 [==============================] - 244s 12ms/step - loss: 0.2369 - acc: 0.3529 - val_loss: 0.2373 - val_acc: 0.2756\n"
     ]
    },
    {
     "name": "stdout",
     "output_type": "stream",
     "text": [
      "Epoch 9/50\n",
      "19850/19850 [==============================] - 244s 12ms/step - loss: 0.2368 - acc: 0.4140 - val_loss: 0.2372 - val_acc: 0.3006\n",
      "Epoch 10/50\n",
      "19850/19850 [==============================] - 244s 12ms/step - loss: 0.2366 - acc: 0.4722 - val_loss: 0.2372 - val_acc: 0.3270\n",
      "Epoch 11/50\n",
      "19850/19850 [==============================] - 244s 12ms/step - loss: 0.2365 - acc: 0.5256 - val_loss: 0.2371 - val_acc: 0.3480\n",
      "Epoch 12/50\n",
      "19850/19850 [==============================] - 243s 12ms/step - loss: 0.2364 - acc: 0.5788 - val_loss: 0.2371 - val_acc: 0.3693\n",
      "Epoch 13/50\n",
      "19850/19850 [==============================] - 244s 12ms/step - loss: 0.2362 - acc: 0.6358 - val_loss: 0.2371 - val_acc: 0.3872\n",
      "Epoch 14/50\n",
      "19850/19850 [==============================] - 243s 12ms/step - loss: 0.2361 - acc: 0.6868 - val_loss: 0.2370 - val_acc: 0.4025\n",
      "Epoch 15/50\n",
      "19850/19850 [==============================] - 244s 12ms/step - loss: 0.2360 - acc: 0.7300 - val_loss: 0.2370 - val_acc: 0.4275\n",
      "Epoch 16/50\n",
      "19850/19850 [==============================] - 244s 12ms/step - loss: 0.2359 - acc: 0.7665 - val_loss: 0.2370 - val_acc: 0.4292\n",
      "Epoch 17/50\n",
      "19850/19850 [==============================] - 244s 12ms/step - loss: 0.2358 - acc: 0.7994 - val_loss: 0.2370 - val_acc: 0.4413\n",
      "Epoch 18/50\n",
      "19850/19850 [==============================] - 244s 12ms/step - loss: 0.2357 - acc: 0.8281 - val_loss: 0.2370 - val_acc: 0.4470\n",
      "Epoch 19/50\n",
      "19850/19850 [==============================] - 243s 12ms/step - loss: 0.2356 - acc: 0.8519 - val_loss: 0.2370 - val_acc: 0.4455\n",
      "Epoch 20/50\n",
      "19850/19850 [==============================] - 244s 12ms/step - loss: 0.2355 - acc: 0.8727 - val_loss: 0.2370 - val_acc: 0.4534\n",
      "Epoch 21/50\n",
      "19850/19850 [==============================] - 244s 12ms/step - loss: 0.2355 - acc: 0.8915 - val_loss: 0.2370 - val_acc: 0.4610\n",
      "Epoch 22/50\n",
      "19850/19850 [==============================] - 244s 12ms/step - loss: 0.2355 - acc: 0.9049 - val_loss: 0.2370 - val_acc: 0.4614\n",
      "Epoch 23/50\n",
      "19850/19850 [==============================] - 244s 12ms/step - loss: 0.2354 - acc: 0.9190 - val_loss: 0.2370 - val_acc: 0.4649\n",
      "Epoch 24/50\n",
      "19850/19850 [==============================] - 244s 12ms/step - loss: 0.2354 - acc: 0.9275 - val_loss: 0.2370 - val_acc: 0.4630\n",
      "Epoch 25/50\n",
      "19850/19850 [==============================] - 244s 12ms/step - loss: 0.2354 - acc: 0.9324 - val_loss: 0.2370 - val_acc: 0.4686\n",
      "Epoch 26/50\n",
      "19850/19850 [==============================] - 244s 12ms/step - loss: 0.2354 - acc: 0.9411 - val_loss: 0.2370 - val_acc: 0.4674\n",
      "Epoch 27/50\n",
      "19850/19850 [==============================] - 244s 12ms/step - loss: 0.2353 - acc: 0.9452 - val_loss: 0.2370 - val_acc: 0.4693\n",
      "Epoch 28/50\n",
      "19850/19850 [==============================] - 244s 12ms/step - loss: 0.2353 - acc: 0.9514 - val_loss: 0.2370 - val_acc: 0.4677\n",
      "Epoch 29/50\n",
      "19850/19850 [==============================] - 244s 12ms/step - loss: 0.2353 - acc: 0.9547 - val_loss: 0.2370 - val_acc: 0.4772\n",
      "Epoch 30/50\n",
      "19850/19850 [==============================] - 244s 12ms/step - loss: 0.2353 - acc: 0.9591 - val_loss: 0.2370 - val_acc: 0.4746\n",
      "Epoch 31/50\n",
      "19850/19850 [==============================] - 244s 12ms/step - loss: 0.2353 - acc: 0.9591 - val_loss: 0.2370 - val_acc: 0.4758\n",
      "Epoch 32/50\n",
      "19850/19850 [==============================] - 244s 12ms/step - loss: 0.2353 - acc: 0.9630 - val_loss: 0.2370 - val_acc: 0.4723\n",
      "Epoch 33/50\n",
      "19850/19850 [==============================] - 244s 12ms/step - loss: 0.2353 - acc: 0.9637 - val_loss: 0.2370 - val_acc: 0.4721\n",
      "Epoch 34/50\n",
      "19850/19850 [==============================] - 244s 12ms/step - loss: 0.2353 - acc: 0.9638 - val_loss: 0.2370 - val_acc: 0.4703\n",
      "Epoch 35/50\n",
      "19850/19850 [==============================] - 244s 12ms/step - loss: 0.2353 - acc: 0.9648 - val_loss: 0.2370 - val_acc: 0.4767\n",
      "Epoch 36/50\n",
      "19850/19850 [==============================] - 244s 12ms/step - loss: 0.2353 - acc: 0.9671 - val_loss: 0.2370 - val_acc: 0.4754\n",
      "Epoch 37/50\n",
      "19850/19850 [==============================] - 244s 12ms/step - loss: 0.2353 - acc: 0.9689 - val_loss: 0.2370 - val_acc: 0.4791\n",
      "Epoch 38/50\n",
      "19850/19850 [==============================] - 244s 12ms/step - loss: 0.2353 - acc: 0.9673 - val_loss: 0.2370 - val_acc: 0.4737\n",
      "Epoch 39/50\n",
      "19850/19850 [==============================] - 244s 12ms/step - loss: 0.2353 - acc: 0.9665 - val_loss: 0.2371 - val_acc: 0.4742\n",
      "Epoch 40/50\n",
      "19850/19850 [==============================] - 244s 12ms/step - loss: 0.2353 - acc: 0.9689 - val_loss: 0.2371 - val_acc: 0.4732\n",
      "Epoch 41/50\n",
      "19850/19850 [==============================] - 244s 12ms/step - loss: 0.2353 - acc: 0.9708 - val_loss: 0.2371 - val_acc: 0.4784\n",
      "Epoch 42/50\n",
      "19850/19850 [==============================] - 244s 12ms/step - loss: 0.2353 - acc: 0.9714 - val_loss: 0.2370 - val_acc: 0.4850\n",
      "Epoch 43/50\n",
      "19850/19850 [==============================] - 244s 12ms/step - loss: 0.2353 - acc: 0.9738 - val_loss: 0.2370 - val_acc: 0.4800\n",
      "Epoch 44/50\n",
      "19850/19850 [==============================] - 244s 12ms/step - loss: 0.2353 - acc: 0.9737 - val_loss: 0.2371 - val_acc: 0.4754\n",
      "Epoch 45/50\n",
      "19850/19850 [==============================] - 244s 12ms/step - loss: 0.2353 - acc: 0.9744 - val_loss: 0.2371 - val_acc: 0.4816\n",
      "Epoch 46/50\n",
      "19850/19850 [==============================] - 244s 12ms/step - loss: 0.2353 - acc: 0.9757 - val_loss: 0.2371 - val_acc: 0.4791\n",
      "Epoch 47/50\n",
      "19850/19850 [==============================] - 244s 12ms/step - loss: 0.2352 - acc: 0.9775 - val_loss: 0.2370 - val_acc: 0.4883\n",
      "Epoch 48/50\n",
      "19850/19850 [==============================] - 244s 12ms/step - loss: 0.2352 - acc: 0.9785 - val_loss: 0.2371 - val_acc: 0.4829\n",
      "Epoch 49/50\n",
      "19850/19850 [==============================] - 244s 12ms/step - loss: 0.2352 - acc: 0.9756 - val_loss: 0.2371 - val_acc: 0.4834\n",
      "Epoch 50/50\n",
      "19850/19850 [==============================] - 244s 12ms/step - loss: 0.2352 - acc: 0.9761 - val_loss: 0.2371 - val_acc: 0.4855\n",
      "\n",
      "Train on 19850 samples, validate on 19850 samples\n",
      "Epoch 1/50\n",
      "19850/19850 [==============================] - 250s 13ms/step - loss: 0.2382 - acc: 0.0038 - val_loss: 0.2377 - val_acc: 0.0080\n",
      "Epoch 2/50\n",
      "19850/19850 [==============================] - 242s 12ms/step - loss: 0.2377 - acc: 0.0194 - val_loss: 0.2376 - val_acc: 0.0337\n",
      "Epoch 3/50\n",
      "19850/19850 [==============================] - 242s 12ms/step - loss: 0.2376 - acc: 0.0555 - val_loss: 0.2376 - val_acc: 0.0662\n",
      "Epoch 4/50\n",
      "19850/19850 [==============================] - 242s 12ms/step - loss: 0.2375 - acc: 0.1077 - val_loss: 0.2375 - val_acc: 0.1210\n",
      "Epoch 5/50\n",
      "19850/19850 [==============================] - 242s 12ms/step - loss: 0.2374 - acc: 0.1817 - val_loss: 0.2374 - val_acc: 0.1961\n",
      "Epoch 6/50\n",
      "19850/19850 [==============================] - 243s 12ms/step - loss: 0.2372 - acc: 0.2666 - val_loss: 0.2373 - val_acc: 0.2471\n",
      "Epoch 7/50\n",
      "19850/19850 [==============================] - 243s 12ms/step - loss: 0.2370 - acc: 0.3425 - val_loss: 0.2372 - val_acc: 0.2851\n",
      "Epoch 8/50\n",
      "19850/19850 [==============================] - 242s 12ms/step - loss: 0.2368 - acc: 0.4145 - val_loss: 0.2372 - val_acc: 0.3224\n",
      "Epoch 9/50\n",
      "19850/19850 [==============================] - 243s 12ms/step - loss: 0.2366 - acc: 0.4790 - val_loss: 0.2371 - val_acc: 0.3458\n",
      "Epoch 10/50\n",
      "19850/19850 [==============================] - 243s 12ms/step - loss: 0.2365 - acc: 0.5369 - val_loss: 0.2371 - val_acc: 0.3663\n",
      "Epoch 11/50\n",
      "19850/19850 [==============================] - 243s 12ms/step - loss: 0.2363 - acc: 0.5959 - val_loss: 0.2370 - val_acc: 0.3940\n",
      "Epoch 12/50\n",
      "19850/19850 [==============================] - 243s 12ms/step - loss: 0.2362 - acc: 0.6491 - val_loss: 0.2370 - val_acc: 0.4030\n",
      "Epoch 13/50\n",
      "19850/19850 [==============================] - 243s 12ms/step - loss: 0.2361 - acc: 0.6938 - val_loss: 0.2370 - val_acc: 0.4201\n",
      "Epoch 14/50\n",
      "19850/19850 [==============================] - 243s 12ms/step - loss: 0.2359 - acc: 0.7450 - val_loss: 0.2370 - val_acc: 0.4353\n",
      "Epoch 15/50\n",
      "19850/19850 [==============================] - 243s 12ms/step - loss: 0.2358 - acc: 0.7861 - val_loss: 0.2370 - val_acc: 0.4421\n",
      "Epoch 16/50\n",
      "19850/19850 [==============================] - 243s 12ms/step - loss: 0.2357 - acc: 0.8147 - val_loss: 0.2370 - val_acc: 0.4447\n",
      "Epoch 17/50\n",
      "19850/19850 [==============================] - 243s 12ms/step - loss: 0.2356 - acc: 0.8453 - val_loss: 0.2369 - val_acc: 0.4484\n",
      "Epoch 18/50\n",
      "19850/19850 [==============================] - 243s 12ms/step - loss: 0.2356 - acc: 0.8695 - val_loss: 0.2369 - val_acc: 0.4563\n",
      "Epoch 19/50\n",
      "19850/19850 [==============================] - 243s 12ms/step - loss: 0.2355 - acc: 0.8891 - val_loss: 0.2369 - val_acc: 0.4638\n",
      "Epoch 20/50\n",
      "19850/19850 [==============================] - 243s 12ms/step - loss: 0.2355 - acc: 0.9088 - val_loss: 0.2369 - val_acc: 0.4744\n",
      "Epoch 21/50\n",
      "19850/19850 [==============================] - 243s 12ms/step - loss: 0.2354 - acc: 0.9225 - val_loss: 0.2369 - val_acc: 0.4717\n",
      "Epoch 22/50\n",
      "19850/19850 [==============================] - 243s 12ms/step - loss: 0.2354 - acc: 0.9318 - val_loss: 0.2369 - val_acc: 0.4760\n",
      "Epoch 23/50\n",
      "19850/19850 [==============================] - 243s 12ms/step - loss: 0.2354 - acc: 0.9372 - val_loss: 0.2370 - val_acc: 0.4723\n",
      "Epoch 24/50\n",
      "19850/19850 [==============================] - 243s 12ms/step - loss: 0.2353 - acc: 0.9448 - val_loss: 0.2370 - val_acc: 0.4727\n",
      "Epoch 25/50\n",
      "19850/19850 [==============================] - 243s 12ms/step - loss: 0.2353 - acc: 0.9514 - val_loss: 0.2369 - val_acc: 0.4789\n",
      "Epoch 26/50\n",
      "19850/19850 [==============================] - 243s 12ms/step - loss: 0.2353 - acc: 0.9556 - val_loss: 0.2370 - val_acc: 0.4758\n",
      "Epoch 27/50\n",
      "19850/19850 [==============================] - 243s 12ms/step - loss: 0.2353 - acc: 0.9577 - val_loss: 0.2369 - val_acc: 0.4826\n",
      "Epoch 28/50\n",
      "19850/19850 [==============================] - 243s 12ms/step - loss: 0.2353 - acc: 0.9594 - val_loss: 0.2370 - val_acc: 0.4815\n",
      "Epoch 29/50\n",
      "19850/19850 [==============================] - 243s 12ms/step - loss: 0.2353 - acc: 0.9589 - val_loss: 0.2370 - val_acc: 0.4793\n",
      "Epoch 30/50\n",
      "19850/19850 [==============================] - 243s 12ms/step - loss: 0.2353 - acc: 0.9617 - val_loss: 0.2370 - val_acc: 0.4725\n",
      "Epoch 31/50\n",
      "19850/19850 [==============================] - 243s 12ms/step - loss: 0.2353 - acc: 0.9602 - val_loss: 0.2370 - val_acc: 0.4777\n",
      "Epoch 32/50\n",
      "19850/19850 [==============================] - 243s 12ms/step - loss: 0.2353 - acc: 0.9625 - val_loss: 0.2370 - val_acc: 0.4794\n",
      "Epoch 33/50\n",
      "19850/19850 [==============================] - 243s 12ms/step - loss: 0.2353 - acc: 0.9654 - val_loss: 0.2370 - val_acc: 0.4814\n",
      "Epoch 34/50\n",
      "19850/19850 [==============================] - 243s 12ms/step - loss: 0.2353 - acc: 0.9677 - val_loss: 0.2370 - val_acc: 0.4787\n",
      "Epoch 35/50\n",
      "19850/19850 [==============================] - 243s 12ms/step - loss: 0.2353 - acc: 0.9680 - val_loss: 0.2370 - val_acc: 0.4749\n",
      "Epoch 36/50\n",
      "19850/19850 [==============================] - 243s 12ms/step - loss: 0.2353 - acc: 0.9690 - val_loss: 0.2370 - val_acc: 0.4825\n",
      "Epoch 37/50\n",
      "19850/19850 [==============================] - 243s 12ms/step - loss: 0.2353 - acc: 0.9707 - val_loss: 0.2370 - val_acc: 0.4832\n",
      "Epoch 38/50\n",
      "19850/19850 [==============================] - 243s 12ms/step - loss: 0.2353 - acc: 0.9721 - val_loss: 0.2370 - val_acc: 0.4855\n",
      "Epoch 39/50\n",
      "19850/19850 [==============================] - 243s 12ms/step - loss: 0.2353 - acc: 0.9725 - val_loss: 0.2370 - val_acc: 0.4791\n",
      "Epoch 40/50\n",
      "19850/19850 [==============================] - 243s 12ms/step - loss: 0.2353 - acc: 0.9711 - val_loss: 0.2371 - val_acc: 0.4770\n",
      "Epoch 41/50\n",
      "19850/19850 [==============================] - 243s 12ms/step - loss: 0.2353 - acc: 0.9711 - val_loss: 0.2370 - val_acc: 0.4824\n",
      "Epoch 42/50\n",
      "19850/19850 [==============================] - 243s 12ms/step - loss: 0.2353 - acc: 0.9729 - val_loss: 0.2370 - val_acc: 0.4854\n",
      "Epoch 43/50\n",
      "19850/19850 [==============================] - 243s 12ms/step - loss: 0.2353 - acc: 0.9729 - val_loss: 0.2371 - val_acc: 0.4803\n",
      "Epoch 44/50\n",
      "19850/19850 [==============================] - 243s 12ms/step - loss: 0.2353 - acc: 0.9724 - val_loss: 0.2371 - val_acc: 0.4815\n",
      "Epoch 45/50\n",
      "19850/19850 [==============================] - 243s 12ms/step - loss: 0.2353 - acc: 0.9736 - val_loss: 0.2371 - val_acc: 0.4768\n",
      "Epoch 46/50\n",
      "19850/19850 [==============================] - 243s 12ms/step - loss: 0.2353 - acc: 0.9731 - val_loss: 0.2371 - val_acc: 0.4833\n",
      "Epoch 47/50\n",
      "19850/19850 [==============================] - 243s 12ms/step - loss: 0.2353 - acc: 0.9694 - val_loss: 0.2371 - val_acc: 0.4784\n",
      "Epoch 48/50\n",
      "19850/19850 [==============================] - 243s 12ms/step - loss: 0.2353 - acc: 0.9738 - val_loss: 0.2371 - val_acc: 0.4733\n",
      "Epoch 49/50\n",
      "19850/19850 [==============================] - 243s 12ms/step - loss: 0.2353 - acc: 0.9742 - val_loss: 0.2371 - val_acc: 0.4849\n",
      "Epoch 50/50\n",
      "19850/19850 [==============================] - 243s 12ms/step - loss: 0.2352 - acc: 0.9768 - val_loss: 0.2371 - val_acc: 0.4859\n",
      "\n"
     ]
    }
   ],
   "source": [
    "#batch_size = 128\n",
    "training_runs = []\n",
    "for i in range(3):\n",
    "    #model_updated.compile(loss='categorical_crossentropy', optimizer='sgd', metrics=['accuracy'])\n",
    "  \n",
    "\n",
    "    model_pretrain_vgg_places.compile(loss='mean_squared_error', optimizer=optimizers.adam(lr=0.0001), metrics=['accuracy'])\n",
    "    keras.callbacks.LearningRateScheduler(learning_rate_schedule)\n",
    "\n",
    "#     history = model_pretrain_vgg.fit_generator(generator.flow(x_train, y_train, batch_size=batch_size),\n",
    "#                     steps_per_epoch=len(x_train) / batch_size, \n",
    "#                     epochs=10,\n",
    "#                     verbose=1,\n",
    "#                     shuffle=True ,\n",
    "#                     validation_data=(x_test, y_test))\n",
    "    history = model_pretrain_vgg_places.fit(\n",
    "    x_train, y_train,\n",
    "    batch_size=128, shuffle=True, epochs=50,\n",
    "    validation_data=(x_test, y_test)\n",
    "    )\n",
    "\n",
    "   \n",
    "    training_runs.append(history)\n",
    "    model_pretrain_vgg_places.get_weights()\n",
    "    if i == 2:\n",
    "        model_pretrain_vgg_places.save_weights('model1_places.h5')\n",
    "    else:\n",
    "        model_pretrain_vgg_places.load_weights('model_sun_places_initial.h5')\n",
    "    print()"
   ]
  },
  {
   "cell_type": "code",
   "execution_count": 26,
   "metadata": {},
   "outputs": [
    {
     "data": {
      "image/png": "[encoded data removed]",
      "text/plain": [
       "<Figure size 432x288 with 6 Axes>"
      ]
     },
     "metadata": {},
     "output_type": "display_data"
    }
   ],
   "source": [
    "import matplotlib.pyplot as plt\n",
    "import numpy as np\n",
    "\n",
    "plt.subplot(2, 3, 1)\n",
    "plt.plot(training_runs[0].history['acc'])\n",
    "plt.legend(['train'], loc='lower right')\n",
    "\n",
    "plt.subplot(2, 3, 2)\n",
    "plt.plot(training_runs[1].history['acc'])\n",
    "plt.legend(['train'], loc='lower right')\n",
    "\n",
    "plt.subplot(2, 3, 3)\n",
    "plt.plot(training_runs[2].history['acc'])\n",
    "plt.legend(['train'], loc='lower right')\n",
    "\n",
    "plt.subplot(2, 3, 4)\n",
    "plt.plot(training_runs[0].history['val_acc'])\n",
    "plt.legend(['test'], loc='lower right')\n",
    "\n",
    "plt.subplot(2, 3, 5)\n",
    "plt.plot(training_runs[1].history['val_acc'])\n",
    "plt.legend(['test'], loc='lower right')\n",
    "\n",
    "plt.subplot(2, 3, 6)\n",
    "plt.plot(training_runs[2].history['val_acc'])\n",
    "plt.legend(['test'], loc='lower right')\n",
    "\n",
    "plt.tight_layout() \n",
    "\n",
    "plt.show()\n",
    "\n"
   ]
  },
  {
   "cell_type": "code",
   "execution_count": 29,
   "metadata": {},
   "outputs": [
    {
     "data": {
      "text/plain": [
       "Text(0.5,1,'Training and Validation Accuracy')"
      ]
     },
     "execution_count": 29,
     "metadata": {},
     "output_type": "execute_result"
    },
    {
     "data": {
      "image/png": "[encoded data removed]",
      "text/plain": [
       "<Figure size 576x576 with 1 Axes>"
      ]
     },
     "metadata": {},
     "output_type": "display_data"
    }
   ],
   "source": [
    "acc = history.history['acc']\n",
    "val_acc = history.history['val_acc']\n",
    "\n",
    "loss = history.history['loss']\n",
    "val_loss = history.history['val_loss']\n",
    "\n",
    "plt.figure(figsize=(8, 8))\n",
    "plt.subplot(2, 1, 1)\n",
    "plt.plot(acc, label='Training Accuracy')\n",
    "plt.plot(val_acc, label='Validation Accuracy')\n",
    "plt.legend(loc='lower right')\n",
    "plt.ylabel('Accuracy')\n",
    "plt.ylim([min(plt.ylim()),1])\n",
    "plt.title('Training and Validation Accuracy')\n",
    "\n",
    "# plt.subplot(2, 1, 2)\n",
    "# plt.plot(loss, label='Training Loss')\n",
    "# plt.plot(val_loss, label='Validation Loss')\n",
    "# plt.legend(loc='upper right')\n",
    "# plt.ylabel('Cross Entropy')\n",
    "# plt.ylim([0,1.0])\n",
    "# plt.title('Training and Validation Loss')\n",
    "# plt.xlabel('epoch')\n",
    "# plt.show()"
   ]
  },
  {
   "cell_type": "code",
   "execution_count": 28,
   "metadata": {},
   "outputs": [
    {
     "name": "stdout",
     "output_type": "stream",
     "text": [
      "Average training accuracy: 0.9761209067970039\n",
      "Average testing accuracy: 0.48223341729939234\n"
     ]
    }
   ],
   "source": [
    "print(\"Average training accuracy: {}\".format(np.mean([training_runs[0].history['acc'][-1], \n",
    "                                                     training_runs[1].history['acc'][-1], training_runs[2].history['acc'][-1]])))\n",
    "print(\"Average testing accuracy: {}\".format(np.mean([training_runs[0].history['val_acc'][-1], \n",
    "                                                     training_runs[1].history['val_acc'][-1], training_runs[2].history['val_acc'][-1]])))"
   ]
  },
  {
   "cell_type": "code",
   "execution_count": null,
   "metadata": {},
   "outputs": [],
   "source": [
    "loss, accuracy = model.evaluate(x_test, y_test, verbose=0)\n",
    "print('Test loss:', loss)\n",
    "print('Test accuracy:', accuracy)"
   ]
  },
  {
   "cell_type": "markdown",
   "metadata": {
    "colab_type": "text",
    "id": "BGcPn0m_dxvQ"
   },
   "source": [
    "# **New Section**"
   ]
  }
 ],
 "metadata": {
  "accelerator": "GPU",
  "colab": {
   "collapsed_sections": [
    "8p9LtIt6w-8B",
    "H0qxvEuDb2Bm",
    "BGcPn0m_dxvQ"
   ],
   "name": "VGG_SUN397.ipynb",
   "provenance": []
  },
  "kernelspec": {
   "display_name": "Python 3",
   "language": "python",
   "name": "python3"
  },
  "language_info": {
   "codemirror_mode": {
    "name": "ipython",
    "version": 3
   },
   "file_extension": ".py",
   "mimetype": "text/x-python",
   "name": "python",
   "nbconvert_exporter": "python",
   "pygments_lexer": "ipython3",
   "version": "3.6.7"
  }
 },
 "nbformat": 4,
 "nbformat_minor": 1
}
